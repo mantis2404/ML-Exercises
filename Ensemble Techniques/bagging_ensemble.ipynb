{
  "nbformat": 4,
  "nbformat_minor": 0,
  "metadata": {
    "colab": {
      "provenance": [],
      "authorship_tag": "ABX9TyNmK7xhFFR0IeJnSHOZro48"
    },
    "kernelspec": {
      "name": "python3",
      "display_name": "Python 3"
    },
    "language_info": {
      "name": "python"
    }
  },
  "cells": [
    {
      "cell_type": "code",
      "execution_count": 5,
      "metadata": {
        "id": "oBKvLDpSpRAY"
      },
      "outputs": [],
      "source": [
        "from sklearn.datasets import make_classification\n",
        "from sklearn.metrics import accuracy_score\n",
        "from sklearn.ensemble import BaggingClassifier\n",
        "from sklearn.tree import DecisionTreeClassifier\n",
        "from sklearn.svm import SVC\n",
        "from sklearn.linear_model import LogisticRegression\n",
        "from sklearn.model_selection import train_test_split"
      ]
    },
    {
      "cell_type": "code",
      "source": [
        "X,y = make_classification(n_samples=10000, n_features=10,n_informative=3)\n",
        "X_train,X_test,y_train,y_test = train_test_split(X,y,test_size=0.2,random_state=42)\n",
        "\n",
        "dt = DecisionTreeClassifier(random_state=42)\n",
        "dt.fit(X_train,y_train)\n",
        "y_pred = dt.predict(X_test)\n",
        "\n",
        "print(\"Decision Tree accuracy\",accuracy_score(y_test,y_pred))"
      ],
      "metadata": {
        "colab": {
          "base_uri": "https://localhost:8080/"
        },
        "id": "srKksx_yqOvD",
        "outputId": "d8bd4d20-8a9d-4dde-fb7e-62b28603b10a"
      },
      "execution_count": 2,
      "outputs": [
        {
          "output_type": "stream",
          "name": "stdout",
          "text": [
            "Decision Tree accuracy 0.856\n"
          ]
        }
      ]
    },
    {
      "cell_type": "code",
      "source": [
        "bag=BaggingClassifier(\n",
        "    n_estimators=500,\n",
        "    max_samples=0.5,\n",
        "    bootstrap=True,\n",
        "    n_jobs=-1,\n",
        "    random_state=42\n",
        ")"
      ],
      "metadata": {
        "id": "Pi3OaB88qg9r"
      },
      "execution_count": 3,
      "outputs": []
    },
    {
      "cell_type": "markdown",
      "source": [
        "- `n_estimators` mean number of models\n",
        "- `max_samples` ratio of training data to be sent to individual model\n",
        "- `bootstrap` whether to replace the row already selected, back into the dataset\n"
      ],
      "metadata": {
        "id": "5vFtv3sCqr1v"
      }
    },
    {
      "cell_type": "code",
      "source": [
        "bag.fit(X_train,y_train)\n",
        "y_pred = bag.predict(X_test)\n",
        "print(\"Bagging classifier accuracy\",accuracy_score(y_test,y_pred))"
      ],
      "metadata": {
        "colab": {
          "base_uri": "https://localhost:8080/"
        },
        "id": "YDL3Yv_wrHaY",
        "outputId": "eab9b8b5-0ac0-47d4-8e4f-d8333f1b7b2e"
      },
      "execution_count": 4,
      "outputs": [
        {
          "output_type": "stream",
          "name": "stdout",
          "text": [
            "Bagging classifier accuracy 0.8985\n"
          ]
        }
      ]
    },
    {
      "cell_type": "markdown",
      "source": [
        "### BAGGING WITH SVM"
      ],
      "metadata": {
        "id": "0h_hzTyMr65g"
      }
    },
    {
      "cell_type": "code",
      "source": [
        "bag = BaggingClassifier(\n",
        "    estimator=SVC(),\n",
        "    n_estimators=500,\n",
        "    max_samples=0.25,\n",
        "    bootstrap=True,\n",
        "    random_state=42\n",
        ")"
      ],
      "metadata": {
        "id": "BHztAsFMrWHo"
      },
      "execution_count": 17,
      "outputs": []
    },
    {
      "cell_type": "code",
      "source": [
        "bag.fit(X_train,y_train)\n",
        "y_pred = bag.predict(X_test)\n",
        "print(\"Bagging SVM accuracy\",accuracy_score(y_test,y_pred))"
      ],
      "metadata": {
        "colab": {
          "base_uri": "https://localhost:8080/"
        },
        "id": "IoxWZpDtsMkh",
        "outputId": "d38b9405-358c-4c53-c5d9-f647cc16e12f"
      },
      "execution_count": 18,
      "outputs": [
        {
          "output_type": "stream",
          "name": "stdout",
          "text": [
            "Bagging SVM accuracy 0.878\n"
          ]
        }
      ]
    },
    {
      "cell_type": "markdown",
      "source": [
        "### PASTING"
      ],
      "metadata": {
        "id": "mWJuLSP9suUv"
      }
    },
    {
      "cell_type": "markdown",
      "source": [
        "Each model is trained on different data and rows are not repeated"
      ],
      "metadata": {
        "id": "gXrssjJws0Mo"
      }
    },
    {
      "cell_type": "code",
      "source": [
        "bag=BaggingClassifier(\n",
        "    estimator=DecisionTreeClassifier(),\n",
        "    n_estimators=500,\n",
        "    max_samples=0.25,\n",
        "    bootstrap=False,\n",
        "    n_jobs=-1,\n",
        "    random_state=42\n",
        ")"
      ],
      "metadata": {
        "id": "4P6I03GRskDk"
      },
      "execution_count": 14,
      "outputs": []
    },
    {
      "cell_type": "code",
      "source": [
        "bag.fit(X_train,y_train)\n",
        "y_pred = bag.predict(X_test)\n",
        "print(\"Pasting classifier accuracy\",accuracy_score(y_test,y_pred))"
      ],
      "metadata": {
        "colab": {
          "base_uri": "https://localhost:8080/"
        },
        "id": "7Nh7BPW_tN1B",
        "outputId": "41adecb7-9512-4052-844f-b4a712199922"
      },
      "execution_count": 15,
      "outputs": [
        {
          "output_type": "stream",
          "name": "stdout",
          "text": [
            "Pasting classifier accuracy 0.8925\n"
          ]
        }
      ]
    },
    {
      "cell_type": "markdown",
      "source": [
        "### RANDOM SUBSPACES"
      ],
      "metadata": {
        "id": "rkSqoxR8tbit"
      }
    },
    {
      "cell_type": "markdown",
      "source": [
        "features are distributed randomly with full rows"
      ],
      "metadata": {
        "id": "ZA134exJuDLq"
      }
    },
    {
      "cell_type": "code",
      "source": [
        "bag=BaggingClassifier(\n",
        "    estimator=DecisionTreeClassifier(),\n",
        "    n_estimators=500,\n",
        "    max_samples=1.0,\n",
        "    bootstrap=False,\n",
        "    max_features=0.5,\n",
        "    bootstrap_features=True,\n",
        "    n_jobs=-1,\n",
        "    random_state=42\n",
        ")"
      ],
      "metadata": {
        "id": "wIqMeZLstYiP"
      },
      "execution_count": 21,
      "outputs": []
    },
    {
      "cell_type": "code",
      "source": [
        "bag.fit(X_train,y_train)\n",
        "y_pred = bag.predict(X_test)\n",
        "print(\"Random Subspaces classifier accuracy\",accuracy_score(y_test,y_pred))"
      ],
      "metadata": {
        "colab": {
          "base_uri": "https://localhost:8080/"
        },
        "id": "7QqW2TvwuSbq",
        "outputId": "a0d7dce6-69e1-4820-cbfd-e6af203325e4"
      },
      "execution_count": 22,
      "outputs": [
        {
          "output_type": "stream",
          "name": "stdout",
          "text": [
            "Random Subspaces classifier accuracy 0.899\n"
          ]
        }
      ]
    },
    {
      "cell_type": "markdown",
      "source": [
        "### RANDOM PATCHES"
      ],
      "metadata": {
        "id": "6mzNTP2bub57"
      }
    },
    {
      "cell_type": "markdown",
      "source": [
        "mix of bagging and random subspaces"
      ],
      "metadata": {
        "id": "TThYi9-uudtz"
      }
    },
    {
      "cell_type": "code",
      "source": [
        "bag=BaggingClassifier(\n",
        "    estimator=DecisionTreeClassifier(),\n",
        "    n_estimators=500,\n",
        "    max_samples=0.25,\n",
        "    bootstrap=True,\n",
        "    max_features=0.5,\n",
        "    bootstrap_features=True,\n",
        "    n_jobs=-1,\n",
        "    random_state=42,\n",
        "    verbose=1\n",
        ")"
      ],
      "metadata": {
        "id": "jHqWOzM_ubcA"
      },
      "execution_count": 23,
      "outputs": []
    },
    {
      "cell_type": "code",
      "source": [
        "bag.fit(X_train,y_train)\n",
        "y_pred = bag.predict(X_test)\n",
        "print(\"Random Patches classifier accuracy\",accuracy_score(y_test,y_pred))"
      ],
      "metadata": {
        "colab": {
          "base_uri": "https://localhost:8080/"
        },
        "id": "4I7aqmVFu0oN",
        "outputId": "e9f2c5a5-bb99-456a-9f1e-288d64401b94"
      },
      "execution_count": 25,
      "outputs": [
        {
          "output_type": "stream",
          "name": "stderr",
          "text": [
            "[Parallel(n_jobs=2)]: Using backend LokyBackend with 2 concurrent workers.\n",
            "[Parallel(n_jobs=2)]: Done   2 out of   2 | elapsed:    9.2s finished\n",
            "[Parallel(n_jobs=2)]: Using backend LokyBackend with 2 concurrent workers.\n"
          ]
        },
        {
          "output_type": "stream",
          "name": "stdout",
          "text": [
            "Random Patches classifier accuracy 0.892\n"
          ]
        },
        {
          "output_type": "stream",
          "name": "stderr",
          "text": [
            "[Parallel(n_jobs=2)]: Done   2 out of   2 | elapsed:    0.4s finished\n"
          ]
        }
      ]
    },
    {
      "cell_type": "markdown",
      "source": [
        "### BAGGING WITH OOB"
      ],
      "metadata": {
        "id": "MnyLHErevupz"
      }
    },
    {
      "cell_type": "code",
      "source": [
        "bag=BaggingClassifier(\n",
        "    estimator=DecisionTreeClassifier(),\n",
        "    n_estimators=500,\n",
        "    max_samples=0.25,\n",
        "    bootstrap=True,\n",
        "    oob_score=True,\n",
        "    n_jobs=-1,\n",
        "    random_state=4\n",
        ")"
      ],
      "metadata": {
        "id": "igqzb_NjvBOc"
      },
      "execution_count": 26,
      "outputs": []
    },
    {
      "cell_type": "code",
      "source": [
        "bag.fit(X_train,y_train)\n",
        "y_pred = bag.predict(X_test)\n",
        "print(\"accuracy\",accuracy_score(y_test,y_pred))"
      ],
      "metadata": {
        "colab": {
          "base_uri": "https://localhost:8080/"
        },
        "id": "VQkOMimwv4g_",
        "outputId": "d7bb3823-35b6-4d5a-8db7-aaaa455edd89"
      },
      "execution_count": 28,
      "outputs": [
        {
          "output_type": "stream",
          "name": "stdout",
          "text": [
            "accuracy 0.8935\n"
          ]
        }
      ]
    },
    {
      "cell_type": "code",
      "source": [
        "bag.oob_score_"
      ],
      "metadata": {
        "colab": {
          "base_uri": "https://localhost:8080/"
        },
        "id": "CjgG1v-ev6zM",
        "outputId": "ff38f90e-2c30-45f0-ae83-9fdcf56e74f3"
      },
      "execution_count": 29,
      "outputs": [
        {
          "output_type": "execute_result",
          "data": {
            "text/plain": [
              "0.8945"
            ]
          },
          "metadata": {},
          "execution_count": 29
        }
      ]
    },
    {
      "cell_type": "markdown",
      "source": [
        "the oob score gives us a rough estimate on how our model will behave on unseen data and this saves our data as we do not have to split it into training and testing data separately\n",
        "\n",
        "oob can only be used only if `bootstrap = True` as there will be no 'out of bag' data in case of `boostrap = False`"
      ],
      "metadata": {
        "id": "yNcjrZ67wqvO"
      }
    }
  ]
}