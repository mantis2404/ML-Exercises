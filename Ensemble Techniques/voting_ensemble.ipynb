{
  "nbformat": 4,
  "nbformat_minor": 0,
  "metadata": {
    "colab": {
      "provenance": [],
      "authorship_tag": "ABX9TyMZEUL+fAEO/oJRpHzo9eQ3"
    },
    "kernelspec": {
      "name": "python3",
      "display_name": "Python 3"
    },
    "language_info": {
      "name": "python"
    }
  },
  "cells": [
    {
      "cell_type": "code",
      "execution_count": null,
      "metadata": {
        "id": "gYGJXRSesmmq"
      },
      "outputs": [],
      "source": [
        "import pandas as pd\n",
        "import numpy as np\n",
        "from sklearn.linear_model import LogisticRegression\n",
        "from sklearn.svm import SVC,SVR\n",
        "from sklearn.ensemble import RandomForestClassifier, VotingClassifier\n",
        "from sklearn.tree import DecisionTreeClassifier\n",
        "from sklearn.model_selection import cross_val_score\n",
        "from sklearn.datasets import load_iris"
      ]
    },
    {
      "cell_type": "code",
      "source": [
        "X,y=load_iris(return_X_y=True)"
      ],
      "metadata": {
        "id": "mLON9x8tuYz3"
      },
      "execution_count": null,
      "outputs": []
    },
    {
      "cell_type": "code",
      "source": [
        "X=pd.DataFrame(X)\n",
        "X.drop(columns=0,inplace=True)"
      ],
      "metadata": {
        "id": "HeiPOBGzvM72"
      },
      "execution_count": null,
      "outputs": []
    },
    {
      "cell_type": "code",
      "source": [
        "X_new=X[y!=0]"
      ],
      "metadata": {
        "id": "afrEoEzuvToA"
      },
      "execution_count": null,
      "outputs": []
    },
    {
      "cell_type": "code",
      "source": [
        "m1=LogisticRegression()\n",
        "m3=SVC(probability=True)\n",
        "m4=RandomForestClassifier()\n",
        "base_models=[('lr',m1),('svc',m3),('rf',m4)]"
      ],
      "metadata": {
        "id": "0PXm0MfvwHBK"
      },
      "execution_count": null,
      "outputs": []
    },
    {
      "cell_type": "markdown",
      "source": [
        "soft voting relies on probabilities generate by each model for every class but since SVC by default does not generate probabilities `probabbility=True` has to be used or else it will be `nan`"
      ],
      "metadata": {
        "id": "j1pSS34azIGY"
      }
    },
    {
      "cell_type": "code",
      "source": [
        "for model in base_models:\n",
        "  cvscore=cross_val_score(model[1],X,y,cv=5,scoring='accuracy')\n",
        "  print(model[0],np.round(np.mean(cvscore),3))"
      ],
      "metadata": {
        "colab": {
          "base_uri": "https://localhost:8080/"
        },
        "id": "mbtcIz2Xwipa",
        "outputId": "6159dc8e-9089-4e3e-8920-bff104df0b4e"
      },
      "execution_count": null,
      "outputs": [
        {
          "output_type": "stream",
          "name": "stdout",
          "text": [
            "lr 0.967\n",
            "svc 0.973\n",
            "rf 0.96\n"
          ]
        }
      ]
    },
    {
      "cell_type": "markdown",
      "source": [
        "### HARD VOTING"
      ],
      "metadata": {
        "id": "Z8gWpQPdyS0o"
      }
    },
    {
      "cell_type": "code",
      "source": [
        "vc1=VotingClassifier(base_models,voting='hard')\n",
        "cvscore=cross_val_score(vc1,X,y,cv=5,scoring='accuracy')\n",
        "print(np.round(np.mean(cvscore),3))"
      ],
      "metadata": {
        "colab": {
          "base_uri": "https://localhost:8080/"
        },
        "id": "0Om3a1_DxjLS",
        "outputId": "be7dfb12-3204-48fb-e343-79f64660061d"
      },
      "execution_count": null,
      "outputs": [
        {
          "output_type": "stream",
          "name": "stdout",
          "text": [
            "0.967\n"
          ]
        }
      ]
    },
    {
      "cell_type": "markdown",
      "source": [
        "### SOFT VOTING"
      ],
      "metadata": {
        "id": "LMN2R-Pkyb1W"
      }
    },
    {
      "cell_type": "code",
      "source": [
        "vc2=VotingClassifier(base_models,voting='soft')\n",
        "cvscore=cross_val_score(vc2,X,y,cv=5,scoring='accuracy')\n",
        "print(np.round(np.mean(cvscore),3))"
      ],
      "metadata": {
        "colab": {
          "base_uri": "https://localhost:8080/"
        },
        "id": "TyRzaf2QyO0t",
        "outputId": "aabf5d19-8d92-4a68-9af0-8a3b6b9e0bfc"
      },
      "execution_count": null,
      "outputs": [
        {
          "output_type": "stream",
          "name": "stdout",
          "text": [
            "0.96\n"
          ]
        }
      ]
    },
    {
      "cell_type": "markdown",
      "source": [
        "### WEIGHTED VOTING"
      ],
      "metadata": {
        "id": "-TR4cV2-z5lI"
      }
    },
    {
      "cell_type": "code",
      "source": [
        "vc3=VotingClassifier(base_models,voting='soft',weights=[1,3,1])\n",
        "# giving more weight to SVC as it has better individual performance\n",
        "\n",
        "cvscore=cross_val_score(vc3,X,y,cv=5,scoring='accuracy')\n",
        "print(np.round(np.mean(cvscore),3))"
      ],
      "metadata": {
        "colab": {
          "base_uri": "https://localhost:8080/"
        },
        "id": "rFea1LMeyiEi",
        "outputId": "fe3e9911-87eb-414f-e5b4-39053dfabb26"
      },
      "execution_count": null,
      "outputs": [
        {
          "output_type": "stream",
          "name": "stdout",
          "text": [
            "0.973\n"
          ]
        }
      ]
    },
    {
      "cell_type": "markdown",
      "source": [
        "model did perform better"
      ],
      "metadata": {
        "id": "YYTEmheG0NPP"
      }
    },
    {
      "cell_type": "markdown",
      "source": [
        "in case of regression problem just use `VotingRegressor()` rather"
      ],
      "metadata": {
        "id": "Y59mTxrU0d3H"
      }
    }
  ]
}