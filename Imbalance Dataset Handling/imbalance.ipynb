{
 "cells": [
  {
   "cell_type": "code",
   "execution_count": 3,
   "id": "3f7a388c",
   "metadata": {},
   "outputs": [],
   "source": [
    "import warnings\n",
    "warnings.filterwarnings('ignore')"
   ]
  },
  {
   "cell_type": "code",
   "execution_count": 4,
   "id": "c5812dc5",
   "metadata": {},
   "outputs": [],
   "source": [
    "import pandas as pd\n",
    "import numpy as np\n",
    "from sklearn.datasets import make_classification\n",
    "from sklearn.model_selection import train_test_split\n",
    "from sklearn.linear_model import LogisticRegression\n",
    "import seaborn as sns\n",
    "import matplotlib.pyplot as plt\n",
    "from sklearn.metrics import classification_report\n",
    "from sklearn.metrics import confusion_matrix\n",
    "# from ydata_profiling import ProfileReport\n",
    "from imblearn.over_sampling import SMOTE\n",
    "from imblearn.under_sampling import TomekLinks\n",
    "%matplotlib inline"
   ]
  },
  {
   "cell_type": "code",
   "execution_count": 5,
   "id": "c33d1a3f",
   "metadata": {},
   "outputs": [],
   "source": [
    "df=pd.read_csv('telecom_churn.csv')\n",
    "# profile = ProfileReport(df, title=\"Diabetes Dataset Profiling Report\", explorative=True)\n",
    "# profile.to_file(\"diabetes_profile_report.html\")"
   ]
  },
  {
   "cell_type": "code",
   "execution_count": 6,
   "id": "882fa3a3",
   "metadata": {},
   "outputs": [
    {
     "data": {
      "text/html": [
       "<div>\n",
       "<style scoped>\n",
       "    .dataframe tbody tr th:only-of-type {\n",
       "        vertical-align: middle;\n",
       "    }\n",
       "\n",
       "    .dataframe tbody tr th {\n",
       "        vertical-align: top;\n",
       "    }\n",
       "\n",
       "    .dataframe thead th {\n",
       "        text-align: right;\n",
       "    }\n",
       "</style>\n",
       "<table border=\"1\" class=\"dataframe\">\n",
       "  <thead>\n",
       "    <tr style=\"text-align: right;\">\n",
       "      <th></th>\n",
       "      <th>Churn</th>\n",
       "      <th>AccountWeeks</th>\n",
       "      <th>ContractRenewal</th>\n",
       "      <th>DataPlan</th>\n",
       "      <th>DataUsage</th>\n",
       "      <th>CustServCalls</th>\n",
       "      <th>DayMins</th>\n",
       "      <th>DayCalls</th>\n",
       "      <th>MonthlyCharge</th>\n",
       "      <th>OverageFee</th>\n",
       "      <th>RoamMins</th>\n",
       "    </tr>\n",
       "  </thead>\n",
       "  <tbody>\n",
       "    <tr>\n",
       "      <th>0</th>\n",
       "      <td>0</td>\n",
       "      <td>128</td>\n",
       "      <td>1</td>\n",
       "      <td>1</td>\n",
       "      <td>2.7</td>\n",
       "      <td>1</td>\n",
       "      <td>265.1</td>\n",
       "      <td>110</td>\n",
       "      <td>89.0</td>\n",
       "      <td>9.87</td>\n",
       "      <td>10.0</td>\n",
       "    </tr>\n",
       "    <tr>\n",
       "      <th>1</th>\n",
       "      <td>0</td>\n",
       "      <td>107</td>\n",
       "      <td>1</td>\n",
       "      <td>1</td>\n",
       "      <td>3.7</td>\n",
       "      <td>1</td>\n",
       "      <td>161.6</td>\n",
       "      <td>123</td>\n",
       "      <td>82.0</td>\n",
       "      <td>9.78</td>\n",
       "      <td>13.7</td>\n",
       "    </tr>\n",
       "    <tr>\n",
       "      <th>2</th>\n",
       "      <td>0</td>\n",
       "      <td>137</td>\n",
       "      <td>1</td>\n",
       "      <td>0</td>\n",
       "      <td>0.0</td>\n",
       "      <td>0</td>\n",
       "      <td>243.4</td>\n",
       "      <td>114</td>\n",
       "      <td>52.0</td>\n",
       "      <td>6.06</td>\n",
       "      <td>12.2</td>\n",
       "    </tr>\n",
       "    <tr>\n",
       "      <th>3</th>\n",
       "      <td>0</td>\n",
       "      <td>84</td>\n",
       "      <td>0</td>\n",
       "      <td>0</td>\n",
       "      <td>0.0</td>\n",
       "      <td>2</td>\n",
       "      <td>299.4</td>\n",
       "      <td>71</td>\n",
       "      <td>57.0</td>\n",
       "      <td>3.10</td>\n",
       "      <td>6.6</td>\n",
       "    </tr>\n",
       "    <tr>\n",
       "      <th>4</th>\n",
       "      <td>0</td>\n",
       "      <td>75</td>\n",
       "      <td>0</td>\n",
       "      <td>0</td>\n",
       "      <td>0.0</td>\n",
       "      <td>3</td>\n",
       "      <td>166.7</td>\n",
       "      <td>113</td>\n",
       "      <td>41.0</td>\n",
       "      <td>7.42</td>\n",
       "      <td>10.1</td>\n",
       "    </tr>\n",
       "  </tbody>\n",
       "</table>\n",
       "</div>"
      ],
      "text/plain": [
       "   Churn  AccountWeeks  ContractRenewal  DataPlan  DataUsage  CustServCalls  \\\n",
       "0      0           128                1         1        2.7              1   \n",
       "1      0           107                1         1        3.7              1   \n",
       "2      0           137                1         0        0.0              0   \n",
       "3      0            84                0         0        0.0              2   \n",
       "4      0            75                0         0        0.0              3   \n",
       "\n",
       "   DayMins  DayCalls  MonthlyCharge  OverageFee  RoamMins  \n",
       "0    265.1       110           89.0        9.87      10.0  \n",
       "1    161.6       123           82.0        9.78      13.7  \n",
       "2    243.4       114           52.0        6.06      12.2  \n",
       "3    299.4        71           57.0        3.10       6.6  \n",
       "4    166.7       113           41.0        7.42      10.1  "
      ]
     },
     "execution_count": 6,
     "metadata": {},
     "output_type": "execute_result"
    }
   ],
   "source": [
    "df.head()"
   ]
  },
  {
   "cell_type": "code",
   "execution_count": 34,
   "id": "b0f66057",
   "metadata": {},
   "outputs": [
    {
     "data": {
      "text/plain": [
       "<Axes: xlabel='Churn', ylabel='count'>"
      ]
     },
     "execution_count": 34,
     "metadata": {},
     "output_type": "execute_result"
    },
    {
     "data": {
      "image/png": "[encoded data removed]",
      "text/plain": [
       "<Figure size 640x480 with 1 Axes>"
      ]
     },
     "metadata": {},
     "output_type": "display_data"
    }
   ],
   "source": [
    "sns.countplot(x='Churn',data=df,hue='Churn')"
   ]
  },
  {
   "cell_type": "code",
   "execution_count": 8,
   "id": "38ad960c",
   "metadata": {},
   "outputs": [],
   "source": [
    "y=df['Churn']\n",
    "X=df.drop('Churn',axis=1)\n",
    "X_train, X_test, y_train, y_test = train_test_split(X, y, test_size=0.2, random_state=42,stratify=y)\n",
    "model=LogisticRegression(max_iter=1000)"
   ]
  },
  {
   "cell_type": "code",
   "execution_count": 9,
   "id": "d48b167e",
   "metadata": {},
   "outputs": [
    {
     "data": {
      "text/plain": [
       "(Churn\n",
       " 0    2280\n",
       " 1     386\n",
       " Name: count, dtype: int64,\n",
       " Churn\n",
       " 0    570\n",
       " 1     97\n",
       " Name: count, dtype: int64)"
      ]
     },
     "execution_count": 9,
     "metadata": {},
     "output_type": "execute_result"
    }
   ],
   "source": [
    "y_train.value_counts(),y_test.value_counts()"
   ]
  },
  {
   "cell_type": "code",
   "execution_count": 10,
   "id": "818928bb",
   "metadata": {},
   "outputs": [
    {
     "data": {
      "text/plain": [
       "AccountWeeks         int64\n",
       "ContractRenewal      int64\n",
       "DataPlan             int64\n",
       "DataUsage          float64\n",
       "CustServCalls        int64\n",
       "DayMins            float64\n",
       "DayCalls             int64\n",
       "MonthlyCharge      float64\n",
       "OverageFee         float64\n",
       "RoamMins           float64\n",
       "dtype: object"
      ]
     },
     "execution_count": 10,
     "metadata": {},
     "output_type": "execute_result"
    }
   ],
   "source": [
    "X_train.dtypes"
   ]
  },
  {
   "cell_type": "code",
   "execution_count": 11,
   "id": "94cadcc4",
   "metadata": {},
   "outputs": [
    {
     "data": {
      "text/plain": [
       "((2666, 10), (667, 10))"
      ]
     },
     "execution_count": 11,
     "metadata": {},
     "output_type": "execute_result"
    }
   ],
   "source": [
    "X_train.shape,X_test.shape"
   ]
  },
  {
   "cell_type": "code",
   "execution_count": 12,
   "id": "ca32d057",
   "metadata": {},
   "outputs": [
    {
     "name": "stdout",
     "output_type": "stream",
     "text": [
      "[[553  17]\n",
      " [ 80  17]]\n",
      "\n",
      "Classification Report:\n",
      "              precision    recall  f1-score   support\n",
      "\n",
      "           0       0.87      0.97      0.92       570\n",
      "           1       0.50      0.18      0.26        97\n",
      "\n",
      "    accuracy                           0.85       667\n",
      "   macro avg       0.69      0.57      0.59       667\n",
      "weighted avg       0.82      0.85      0.82       667\n",
      "\n"
     ]
    }
   ],
   "source": [
    "model.fit(X_train,y_train)\n",
    "y_pred=model.predict(X_test)\n",
    "print(confusion_matrix(y_test, y_pred))\n",
    "print(\"\\nClassification Report:\")\n",
    "print(classification_report(y_test, y_pred))"
   ]
  },
  {
   "cell_type": "markdown",
   "id": "5b5c970a",
   "metadata": {},
   "source": [
    "### UNDERSAMPLING"
   ]
  },
  {
   "cell_type": "code",
   "execution_count": 13,
   "id": "cc09fa0e",
   "metadata": {},
   "outputs": [],
   "source": [
    "X_class_0=X_train[y_train==0]\n",
    "X_class_1=X_train[y_train==1]\n",
    "y_class_0=y_train[y_train==0]\n",
    "y_class_1=y_train[y_train==1]\n",
    "# df_class_0.shape , df_class_1.shape\n"
   ]
  },
  {
   "cell_type": "code",
   "execution_count": 14,
   "id": "8d1dd628",
   "metadata": {},
   "outputs": [
    {
     "name": "stdout",
     "output_type": "stream",
     "text": [
      "Random Under-sampling:\n"
     ]
    },
    {
     "data": {
      "text/plain": [
       "Churn\n",
       "0    386\n",
       "1    386\n",
       "Name: count, dtype: int64"
      ]
     },
     "execution_count": 14,
     "metadata": {},
     "output_type": "execute_result"
    }
   ],
   "source": [
    "count_class_0, count_class_1 = y_train.value_counts()\n",
    "X_class_0_under=X_class_0.sample(count_class_1,random_state=42)\n",
    "y_class_0_under=y_class_0.loc[X_class_0_under.index]\n",
    "X_train_under=pd.concat([X_class_0_under,X_class_1],axis=0)\n",
    "y_train_under=pd.concat([y_class_0_under,y_class_1],axis=0)\n",
    "print(\"Random Under-sampling:\")\n",
    "y_train_under.value_counts()\n",
    "# count_class_0 ,count_class_1\n",
    "# print(df_test_under.columns[-1].value_counts())"
   ]
  },
  {
   "cell_type": "code",
   "execution_count": 15,
   "id": "5da58bac",
   "metadata": {},
   "outputs": [
    {
     "name": "stdout",
     "output_type": "stream",
     "text": [
      "[[432 138]\n",
      " [ 22  75]]\n",
      "\n",
      "Classification Report:\n",
      "              precision    recall  f1-score   support\n",
      "\n",
      "           0       0.95      0.76      0.84       570\n",
      "           1       0.35      0.77      0.48        97\n",
      "\n",
      "    accuracy                           0.76       667\n",
      "   macro avg       0.65      0.77      0.66       667\n",
      "weighted avg       0.86      0.76      0.79       667\n",
      "\n"
     ]
    }
   ],
   "source": [
    "model.fit(X_train_under,y_train_under)\n",
    "y_pred=model.predict(X_test)\n",
    "print(confusion_matrix(y_test, y_pred))\n",
    "print(\"\\nClassification Report:\")\n",
    "print(classification_report(y_test, y_pred))"
   ]
  },
  {
   "cell_type": "markdown",
   "id": "4d17fa47",
   "metadata": {},
   "source": [
    "### OVERSAMPLING"
   ]
  },
  {
   "cell_type": "code",
   "execution_count": 16,
   "id": "6166ff68",
   "metadata": {},
   "outputs": [
    {
     "name": "stdout",
     "output_type": "stream",
     "text": [
      "Random Over-sampling:\n"
     ]
    },
    {
     "data": {
      "text/plain": [
       "Churn\n",
       "1    2280\n",
       "0    2280\n",
       "Name: count, dtype: int64"
      ]
     },
     "execution_count": 16,
     "metadata": {},
     "output_type": "execute_result"
    }
   ],
   "source": [
    "X_class_1_over=X_class_1.sample(count_class_0,random_state=42,replace=True)\n",
    "y_class_1_over=y_class_1.loc[X_class_1_over.index]\n",
    "X_train_over=pd.concat([X_class_1_over,X_class_0],axis=0)\n",
    "y_train_over=pd.concat([y_class_1_over,y_class_0],axis=0)\n",
    "print(\"Random Over-sampling:\")\n",
    "y_train_over.value_counts()"
   ]
  },
  {
   "cell_type": "code",
   "execution_count": 17,
   "id": "8cb67b6f",
   "metadata": {},
   "outputs": [
    {
     "name": "stdout",
     "output_type": "stream",
     "text": [
      "[[436 134]\n",
      " [ 26  71]]\n",
      "\n",
      "Classification Report:\n",
      "              precision    recall  f1-score   support\n",
      "\n",
      "           0       0.94      0.76      0.84       570\n",
      "           1       0.35      0.73      0.47        97\n",
      "\n",
      "    accuracy                           0.76       667\n",
      "   macro avg       0.65      0.75      0.66       667\n",
      "weighted avg       0.86      0.76      0.79       667\n",
      "\n"
     ]
    }
   ],
   "source": [
    "model.fit(X_train_over,y_train_over)\n",
    "y_pred=model.predict(X_test)\n",
    "print(confusion_matrix(y_test, y_pred))\n",
    "print(\"\\nClassification Report:\")\n",
    "print(classification_report(y_test, y_pred))"
   ]
  },
  {
   "cell_type": "markdown",
   "id": "b4d90edb",
   "metadata": {},
   "source": [
    "### SMOTE"
   ]
  },
  {
   "cell_type": "code",
   "execution_count": 18,
   "id": "3ba29b78",
   "metadata": {},
   "outputs": [
    {
     "data": {
      "text/plain": [
       "Churn\n",
       "0    2280\n",
       "1    2280\n",
       "Name: count, dtype: int64"
      ]
     },
     "execution_count": 18,
     "metadata": {},
     "output_type": "execute_result"
    }
   ],
   "source": [
    "smote = SMOTE(sampling_strategy='minority')\n",
    "X_train_sm, y_train_sm = smote.fit_resample(X_train, y_train)\n",
    "\n",
    "y_train_sm.value_counts()"
   ]
  },
  {
   "cell_type": "code",
   "execution_count": 19,
   "id": "726463c3",
   "metadata": {},
   "outputs": [
    {
     "name": "stdout",
     "output_type": "stream",
     "text": [
      "[[445 125]\n",
      " [ 30  67]]\n",
      "\n",
      "Classification Report:\n",
      "              precision    recall  f1-score   support\n",
      "\n",
      "           0       0.94      0.78      0.85       570\n",
      "           1       0.35      0.69      0.46        97\n",
      "\n",
      "    accuracy                           0.77       667\n",
      "   macro avg       0.64      0.74      0.66       667\n",
      "weighted avg       0.85      0.77      0.80       667\n",
      "\n"
     ]
    }
   ],
   "source": [
    "model.fit(X_train_sm,y_train_sm)\n",
    "y_pred=model.predict(X_test)\n",
    "print(confusion_matrix(y_test, y_pred))\n",
    "print(\"\\nClassification Report:\")\n",
    "print(classification_report(y_test, y_pred))"
   ]
  },
  {
   "cell_type": "markdown",
   "id": "6f3c0d55",
   "metadata": {},
   "source": [
    "### ENSEMBLE"
   ]
  },
  {
   "cell_type": "code",
   "execution_count": 20,
   "id": "804710d7",
   "metadata": {},
   "outputs": [
    {
     "data": {
      "text/plain": [
       "Churn\n",
       "0    2280\n",
       "1     386\n",
       "Name: count, dtype: int64"
      ]
     },
     "execution_count": 20,
     "metadata": {},
     "output_type": "execute_result"
    }
   ],
   "source": [
    "y_train.value_counts()"
   ]
  },
  {
   "cell_type": "code",
   "execution_count": 21,
   "id": "81f97efc",
   "metadata": {},
   "outputs": [],
   "source": [
    "def get_train_batch(start, end):\n",
    "    # y_class_emr=y_class_1.loc[X_class_em.index]\n",
    "    X_class_0_mod=X_class_0[start:end]\n",
    "    y_class_0_mod=y_class_0.loc[X_class_0_mod.index]\n",
    "    y_train_en=pd.concat([y_class_0_mod,y_class_1],axis=0)\n",
    "    X_train_en = pd.concat([X_class_0_mod, X_class_1], axis=0)\n",
    "    # X_train_en = df_train.drop('Churn', axis='columns')\n",
    "    # y_train_en = df_train.Churn\n",
    "    return X_train_en, y_train_en"
   ]
  },
  {
   "cell_type": "code",
   "execution_count": 22,
   "id": "33abb22c",
   "metadata": {},
   "outputs": [
    {
     "name": "stdout",
     "output_type": "stream",
     "text": [
      "[[433 137]\n",
      " [ 23  74]]\n",
      "\n",
      "Classification Report:\n",
      "              precision    recall  f1-score   support\n",
      "\n",
      "           0       0.95      0.76      0.84       570\n",
      "           1       0.35      0.76      0.48        97\n",
      "\n",
      "    accuracy                           0.76       667\n",
      "   macro avg       0.65      0.76      0.66       667\n",
      "weighted avg       0.86      0.76      0.79       667\n",
      "\n"
     ]
    }
   ],
   "source": [
    "X_train1, y_train1 = get_train_batch( 0, 380)\n",
    "model.fit(X_train1,y_train1)\n",
    "y_pred1=model.predict(X_test)\n",
    "print(confusion_matrix(y_test, y_pred1))\n",
    "print(\"\\nClassification Report:\")\n",
    "print(classification_report(y_test, y_pred1))"
   ]
  },
  {
   "cell_type": "code",
   "execution_count": 23,
   "id": "98f01de1",
   "metadata": {},
   "outputs": [
    {
     "name": "stdout",
     "output_type": "stream",
     "text": [
      "[[430 140]\n",
      " [ 25  72]]\n",
      "\n",
      "Classification Report:\n",
      "              precision    recall  f1-score   support\n",
      "\n",
      "           0       0.95      0.75      0.84       570\n",
      "           1       0.34      0.74      0.47        97\n",
      "\n",
      "    accuracy                           0.75       667\n",
      "   macro avg       0.64      0.75      0.65       667\n",
      "weighted avg       0.86      0.75      0.78       667\n",
      "\n"
     ]
    }
   ],
   "source": [
    "X_train2, y_train2 = get_train_batch(380,760)\n",
    "model.fit(X_train2,y_train2)\n",
    "y_pred2=model.predict(X_test)\n",
    "print(confusion_matrix(y_test, y_pred2))\n",
    "print(\"\\nClassification Report:\")\n",
    "print(classification_report(y_test, y_pred2))"
   ]
  },
  {
   "cell_type": "code",
   "execution_count": 24,
   "id": "4ec973c3",
   "metadata": {},
   "outputs": [
    {
     "name": "stdout",
     "output_type": "stream",
     "text": [
      "[[423 147]\n",
      " [ 24  73]]\n",
      "\n",
      "Classification Report:\n",
      "              precision    recall  f1-score   support\n",
      "\n",
      "           0       0.95      0.74      0.83       570\n",
      "           1       0.33      0.75      0.46        97\n",
      "\n",
      "    accuracy                           0.74       667\n",
      "   macro avg       0.64      0.75      0.65       667\n",
      "weighted avg       0.86      0.74      0.78       667\n",
      "\n"
     ]
    }
   ],
   "source": [
    "X_train3, y_train3 = get_train_batch( 760, 1140)\n",
    "model.fit(X_train3,y_train3)\n",
    "y_pred3=model.predict(X_test)\n",
    "print(confusion_matrix(y_test, y_pred3))\n",
    "print(\"\\nClassification Report:\")\n",
    "print(classification_report(y_test, y_pred3))"
   ]
  },
  {
   "cell_type": "code",
   "execution_count": 25,
   "id": "d7b7b961",
   "metadata": {},
   "outputs": [
    {
     "name": "stdout",
     "output_type": "stream",
     "text": [
      "[[417 153]\n",
      " [ 25  72]]\n",
      "\n",
      "Classification Report:\n",
      "              precision    recall  f1-score   support\n",
      "\n",
      "           0       0.94      0.73      0.82       570\n",
      "           1       0.32      0.74      0.45        97\n",
      "\n",
      "    accuracy                           0.73       667\n",
      "   macro avg       0.63      0.74      0.64       667\n",
      "weighted avg       0.85      0.73      0.77       667\n",
      "\n"
     ]
    }
   ],
   "source": [
    "X_train4, y_train4 = get_train_batch(1140,1520)\n",
    "model.fit(X_train4,y_train4)\n",
    "y_pred4=model.predict(X_test)\n",
    "print(confusion_matrix(y_test, y_pred4))\n",
    "print(\"\\nClassification Report:\")\n",
    "print(classification_report(y_test, y_pred4))"
   ]
  },
  {
   "cell_type": "code",
   "execution_count": 26,
   "id": "fef594e9",
   "metadata": {},
   "outputs": [
    {
     "name": "stdout",
     "output_type": "stream",
     "text": [
      "[[428 142]\n",
      " [ 24  73]]\n",
      "\n",
      "Classification Report:\n",
      "              precision    recall  f1-score   support\n",
      "\n",
      "           0       0.95      0.75      0.84       570\n",
      "           1       0.34      0.75      0.47        97\n",
      "\n",
      "    accuracy                           0.75       667\n",
      "   macro avg       0.64      0.75      0.65       667\n",
      "weighted avg       0.86      0.75      0.78       667\n",
      "\n"
     ]
    }
   ],
   "source": [
    "X_train5, y_train5 = get_train_batch(1520,1900)\n",
    "model.fit(X_train5,y_train5)\n",
    "y_pred5=model.predict(X_test)\n",
    "print(confusion_matrix(y_test, y_pred5))\n",
    "print(\"\\nClassification Report:\")\n",
    "print(classification_report(y_test, y_pred5))"
   ]
  },
  {
   "cell_type": "code",
   "execution_count": 27,
   "id": "9c72d74e",
   "metadata": {},
   "outputs": [
    {
     "name": "stdout",
     "output_type": "stream",
     "text": [
      "[[429 141]\n",
      " [ 23  74]]\n",
      "\n",
      "Classification Report:\n",
      "              precision    recall  f1-score   support\n",
      "\n",
      "           0       0.95      0.75      0.84       570\n",
      "           1       0.34      0.76      0.47        97\n",
      "\n",
      "    accuracy                           0.75       667\n",
      "   macro avg       0.65      0.76      0.66       667\n",
      "weighted avg       0.86      0.75      0.79       667\n",
      "\n"
     ]
    }
   ],
   "source": [
    "X_train6, y_train6 = get_train_batch(1900,2280)\n",
    "model.fit(X_train6,y_train6)\n",
    "y_pred6=model.predict(X_test)\n",
    "print(confusion_matrix(y_test, y_pred6))\n",
    "print(\"\\nClassification Report:\")\n",
    "print(classification_report(y_test, y_pred6))"
   ]
  },
  {
   "cell_type": "code",
   "execution_count": 28,
   "metadata": {},
   "outputs": [],
   "source": [
    "y_pred_final = y_pred1.copy()\n",
    "for i in range(len(y_pred1)):\n",
    "    n_ones = y_pred1[i] + y_pred2[i] + y_pred3[i]+ y_pred4[i] + y_pred5[i] + y_pred6[i]\n",
    "    if n_ones>1:\n",
    "        y_pred_final[i] = 1\n",
    "    else:\n",
    "        y_pred_final[i] = 0"
   ]
  },
  {
   "cell_type": "code",
   "execution_count": 29,
   "id": "b2605d1c",
   "metadata": {},
   "outputs": [
    {
     "name": "stdout",
     "output_type": "stream",
     "text": [
      "              precision    recall  f1-score   support\n",
      "\n",
      "           0       0.95      0.72      0.82       570\n",
      "           1       0.32      0.77      0.46        97\n",
      "\n",
      "    accuracy                           0.73       667\n",
      "   macro avg       0.64      0.75      0.64       667\n",
      "weighted avg       0.86      0.73      0.77       667\n",
      "\n"
     ]
    }
   ],
   "source": [
    "cl_rep = classification_report(y_test, y_pred_final)\n",
    "print(cl_rep)"
   ]
  },
  {
   "cell_type": "markdown",
   "id": "072297b6",
   "metadata": {},
   "source": [
    "### TOMEK-LINKS"
   ]
  },
  {
   "cell_type": "code",
   "execution_count": 30,
   "metadata": {},
   "outputs": [],
   "source": [
    "tl = TomekLinks()\n",
    "X_tl, y_tl = tl.fit_resample(X_train, y_train)"
   ]
  },
  {
   "cell_type": "code",
   "execution_count": 31,
   "id": "4770254a",
   "metadata": {},
   "outputs": [
    {
     "name": "stdout",
     "output_type": "stream",
     "text": [
      "[[550  20]\n",
      " [ 77  20]]\n",
      "\n",
      "Classification Report:\n",
      "              precision    recall  f1-score   support\n",
      "\n",
      "           0       0.88      0.96      0.92       570\n",
      "           1       0.50      0.21      0.29        97\n",
      "\n",
      "    accuracy                           0.85       667\n",
      "   macro avg       0.69      0.59      0.61       667\n",
      "weighted avg       0.82      0.85      0.83       667\n",
      "\n"
     ]
    }
   ],
   "source": [
    "model.fit(X_tl,y_tl)\n",
    "y_pred=model.predict(X_test)\n",
    "print(confusion_matrix(y_test, y_pred))\n",
    "print(\"\\nClassification Report:\")\n",
    "print(classification_report(y_test, y_pred))"
   ]
  }
 ],
 "metadata": {
  "kernelspec": {
   "display_name": "Python 3",
   "language": "python",
   "name": "python3"
  },
  "language_info": {
   "codemirror_mode": {
    "name": "ipython",
    "version": 3
   },
   "file_extension": ".py",
   "mimetype": "text/x-python",
   "name": "python",
   "nbconvert_exporter": "python",
   "pygments_lexer": "ipython3",
   "version": "3.12.3"
  }
 },
 "nbformat": 4,
 "nbformat_minor": 5
}
